{
 "cells": [
  {
   "cell_type": "code",
   "execution_count": 1,
   "id": "5831d381-dc7c-4f86-8cae-479aa487de8f",
   "metadata": {},
   "outputs": [
    {
     "data": {
      "text/html": [
       "<div>\n",
       "<style scoped>\n",
       "    .dataframe tbody tr th:only-of-type {\n",
       "        vertical-align: middle;\n",
       "    }\n",
       "\n",
       "    .dataframe tbody tr th {\n",
       "        vertical-align: top;\n",
       "    }\n",
       "\n",
       "    .dataframe thead th {\n",
       "        text-align: right;\n",
       "    }\n",
       "</style>\n",
       "<table border=\"1\" class=\"dataframe\">\n",
       "  <thead>\n",
       "    <tr style=\"text-align: right;\">\n",
       "      <th></th>\n",
       "      <th>Brand</th>\n",
       "      <th>Model</th>\n",
       "      <th>Type</th>\n",
       "      <th>Gender</th>\n",
       "      <th>Size</th>\n",
       "      <th>Color</th>\n",
       "      <th>Material</th>\n",
       "      <th>Price (USD)</th>\n",
       "    </tr>\n",
       "  </thead>\n",
       "  <tbody>\n",
       "    <tr>\n",
       "      <th>0</th>\n",
       "      <td>Nike</td>\n",
       "      <td>Air Jordan 1</td>\n",
       "      <td>Basketball</td>\n",
       "      <td>Men</td>\n",
       "      <td>US 10</td>\n",
       "      <td>Red/Black</td>\n",
       "      <td>Leather</td>\n",
       "      <td>$170.00</td>\n",
       "    </tr>\n",
       "    <tr>\n",
       "      <th>1</th>\n",
       "      <td>Adidas</td>\n",
       "      <td>Ultra Boost 21</td>\n",
       "      <td>Running</td>\n",
       "      <td>Men</td>\n",
       "      <td>US 9.5</td>\n",
       "      <td>Black</td>\n",
       "      <td>Primeknit</td>\n",
       "      <td>$180.00</td>\n",
       "    </tr>\n",
       "    <tr>\n",
       "      <th>2</th>\n",
       "      <td>Reebok</td>\n",
       "      <td>Classic Leather</td>\n",
       "      <td>Casual</td>\n",
       "      <td>Men</td>\n",
       "      <td>US 11</td>\n",
       "      <td>White</td>\n",
       "      <td>Leather</td>\n",
       "      <td>$75.00</td>\n",
       "    </tr>\n",
       "    <tr>\n",
       "      <th>3</th>\n",
       "      <td>Converse</td>\n",
       "      <td>Chuck Taylor</td>\n",
       "      <td>Casual</td>\n",
       "      <td>Women</td>\n",
       "      <td>US 8</td>\n",
       "      <td>Navy</td>\n",
       "      <td>Canvas</td>\n",
       "      <td>$55.00</td>\n",
       "    </tr>\n",
       "    <tr>\n",
       "      <th>4</th>\n",
       "      <td>Puma</td>\n",
       "      <td>Future Rider</td>\n",
       "      <td>Lifestyle</td>\n",
       "      <td>Women</td>\n",
       "      <td>US 7.5</td>\n",
       "      <td>Pink</td>\n",
       "      <td>Mesh</td>\n",
       "      <td>$80.00</td>\n",
       "    </tr>\n",
       "  </tbody>\n",
       "</table>\n",
       "</div>"
      ],
      "text/plain": [
       "      Brand            Model        Type Gender    Size      Color   Material  \\\n",
       "0      Nike     Air Jordan 1  Basketball    Men   US 10  Red/Black    Leather   \n",
       "1    Adidas   Ultra Boost 21     Running    Men  US 9.5      Black  Primeknit   \n",
       "2    Reebok  Classic Leather      Casual    Men   US 11      White    Leather   \n",
       "3  Converse     Chuck Taylor      Casual  Women    US 8       Navy     Canvas   \n",
       "4      Puma     Future Rider   Lifestyle  Women  US 7.5       Pink       Mesh   \n",
       "\n",
       "  Price (USD)  \n",
       "0    $170.00   \n",
       "1    $180.00   \n",
       "2     $75.00   \n",
       "3     $55.00   \n",
       "4     $80.00   "
      ]
     },
     "execution_count": 1,
     "metadata": {},
     "output_type": "execute_result"
    }
   ],
   "source": [
    "import numpy as np\n",
    "import pandas as pd\n",
    "\n",
    "df=pd.read_csv('Shoe_prices.csv')\n",
    "df.head()"
   ]
  },
  {
   "cell_type": "code",
   "execution_count": 2,
   "id": "e1928ab1-8e7b-4750-ad92-07393cafdb10",
   "metadata": {},
   "outputs": [
    {
     "data": {
      "text/plain": [
       "Brand          0\n",
       "Model          0\n",
       "Type           0\n",
       "Gender         0\n",
       "Size           0\n",
       "Color          0\n",
       "Material       0\n",
       "Price (USD)    0\n",
       "dtype: int64"
      ]
     },
     "execution_count": 2,
     "metadata": {},
     "output_type": "execute_result"
    }
   ],
   "source": [
    "df.isnull().sum()"
   ]
  },
  {
   "cell_type": "code",
   "execution_count": 3,
   "id": "7a828631-a64b-4e54-a996-64278b788f6a",
   "metadata": {},
   "outputs": [
    {
     "data": {
      "text/plain": [
       "(1006, 8)"
      ]
     },
     "execution_count": 3,
     "metadata": {},
     "output_type": "execute_result"
    }
   ],
   "source": [
    "df.shape"
   ]
  },
  {
   "cell_type": "code",
   "execution_count": 4,
   "id": "f45ee379-f104-48e8-94a9-d8f4c4813149",
   "metadata": {},
   "outputs": [
    {
     "data": {
      "text/plain": [
       "Brand\n",
       "Nike           118\n",
       "Adidas         100\n",
       "Reebok         100\n",
       "Converse       100\n",
       "Puma           100\n",
       "Vans           100\n",
       "New Balance    100\n",
       "Asics          100\n",
       "Fila            99\n",
       "Skechers        89\n",
       "Name: count, dtype: int64"
      ]
     },
     "execution_count": 4,
     "metadata": {},
     "output_type": "execute_result"
    }
   ],
   "source": [
    "df['Brand'].value_counts()"
   ]
  },
  {
   "cell_type": "code",
   "execution_count": 5,
   "id": "0b43488f-0a54-4916-9374-f0372bd212c6",
   "metadata": {},
   "outputs": [
    {
     "data": {
      "text/plain": [
       "True"
      ]
     },
     "execution_count": 5,
     "metadata": {},
     "output_type": "execute_result"
    }
   ],
   "source": [
    "# 確認鞋類型號獨一無二\n",
    "len(df['Model'])==len(df)"
   ]
  },
  {
   "cell_type": "code",
   "execution_count": 6,
   "id": "2d27dfca-805d-45c0-b3f6-1c0696ff1359",
   "metadata": {},
   "outputs": [
    {
     "data": {
      "text/html": [
       "<div>\n",
       "<style scoped>\n",
       "    .dataframe tbody tr th:only-of-type {\n",
       "        vertical-align: middle;\n",
       "    }\n",
       "\n",
       "    .dataframe tbody tr th {\n",
       "        vertical-align: top;\n",
       "    }\n",
       "\n",
       "    .dataframe thead th {\n",
       "        text-align: right;\n",
       "    }\n",
       "</style>\n",
       "<table border=\"1\" class=\"dataframe\">\n",
       "  <thead>\n",
       "    <tr style=\"text-align: right;\">\n",
       "      <th></th>\n",
       "      <th>Brand</th>\n",
       "      <th>Type</th>\n",
       "      <th>Gender</th>\n",
       "      <th>Size</th>\n",
       "      <th>Color</th>\n",
       "      <th>Material</th>\n",
       "      <th>Price (USD)</th>\n",
       "    </tr>\n",
       "  </thead>\n",
       "  <tbody>\n",
       "    <tr>\n",
       "      <th>0</th>\n",
       "      <td>Nike</td>\n",
       "      <td>Basketball</td>\n",
       "      <td>Men</td>\n",
       "      <td>US 10</td>\n",
       "      <td>Red/Black</td>\n",
       "      <td>Leather</td>\n",
       "      <td>$170.00</td>\n",
       "    </tr>\n",
       "    <tr>\n",
       "      <th>1</th>\n",
       "      <td>Adidas</td>\n",
       "      <td>Running</td>\n",
       "      <td>Men</td>\n",
       "      <td>US 9.5</td>\n",
       "      <td>Black</td>\n",
       "      <td>Primeknit</td>\n",
       "      <td>$180.00</td>\n",
       "    </tr>\n",
       "    <tr>\n",
       "      <th>2</th>\n",
       "      <td>Reebok</td>\n",
       "      <td>Casual</td>\n",
       "      <td>Men</td>\n",
       "      <td>US 11</td>\n",
       "      <td>White</td>\n",
       "      <td>Leather</td>\n",
       "      <td>$75.00</td>\n",
       "    </tr>\n",
       "    <tr>\n",
       "      <th>3</th>\n",
       "      <td>Converse</td>\n",
       "      <td>Casual</td>\n",
       "      <td>Women</td>\n",
       "      <td>US 8</td>\n",
       "      <td>Navy</td>\n",
       "      <td>Canvas</td>\n",
       "      <td>$55.00</td>\n",
       "    </tr>\n",
       "    <tr>\n",
       "      <th>4</th>\n",
       "      <td>Puma</td>\n",
       "      <td>Lifestyle</td>\n",
       "      <td>Women</td>\n",
       "      <td>US 7.5</td>\n",
       "      <td>Pink</td>\n",
       "      <td>Mesh</td>\n",
       "      <td>$80.00</td>\n",
       "    </tr>\n",
       "  </tbody>\n",
       "</table>\n",
       "</div>"
      ],
      "text/plain": [
       "      Brand        Type Gender    Size      Color   Material Price (USD)\n",
       "0      Nike  Basketball    Men   US 10  Red/Black    Leather    $170.00 \n",
       "1    Adidas     Running    Men  US 9.5      Black  Primeknit    $180.00 \n",
       "2    Reebok      Casual    Men   US 11      White    Leather     $75.00 \n",
       "3  Converse      Casual  Women    US 8       Navy     Canvas     $55.00 \n",
       "4      Puma   Lifestyle  Women  US 7.5       Pink       Mesh     $80.00 "
      ]
     },
     "execution_count": 6,
     "metadata": {},
     "output_type": "execute_result"
    }
   ],
   "source": [
    "df=df.drop(columns=['Model'])\n",
    "df.head()"
   ]
  },
  {
   "cell_type": "code",
   "execution_count": 7,
   "id": "1a759242-9b33-4a93-a31a-b4b9ec14078b",
   "metadata": {},
   "outputs": [
    {
     "data": {
      "text/plain": [
       "Type\n",
       "Running           332\n",
       "Casual            243\n",
       "Skate             100\n",
       "Fashion            86\n",
       "Lifestyle          76\n",
       "Basketball         52\n",
       "Walking            46\n",
       "Training           34\n",
       "Crossfit           11\n",
       "Trail               6\n",
       "Weightlifting       4\n",
       "Slides              3\n",
       "Trail Running       3\n",
       "CrossFit            3\n",
       "Retro               3\n",
       "Hiking              2\n",
       "Cross-training      1\n",
       "Racing              1\n",
       "Name: count, dtype: int64"
      ]
     },
     "execution_count": 7,
     "metadata": {},
     "output_type": "execute_result"
    }
   ],
   "source": [
    "df['Type'].value_counts()"
   ]
  },
  {
   "cell_type": "code",
   "execution_count": 8,
   "id": "692d59ff-8387-4e32-b7ec-f343d4afc726",
   "metadata": {},
   "outputs": [
    {
     "data": {
      "text/plain": [
       "Gender\n",
       "Men      535\n",
       "Women    471\n",
       "Name: count, dtype: int64"
      ]
     },
     "execution_count": 8,
     "metadata": {},
     "output_type": "execute_result"
    }
   ],
   "source": [
    "df['Gender'].value_counts()"
   ]
  },
  {
   "cell_type": "code",
   "execution_count": 9,
   "id": "23535e87-baf5-4356-9dd6-41d7e795ee8d",
   "metadata": {},
   "outputs": [
    {
     "data": {
      "text/plain": [
       "Size\n",
       "US 8.5     132\n",
       "US 9       127\n",
       "US 9.5     117\n",
       "US 7.5     106\n",
       "US 10      100\n",
       "US 8        93\n",
       "US 11       89\n",
       "US 7        81\n",
       "US 10.5     49\n",
       "US 6.5      43\n",
       "US 12       31\n",
       "US 11.5     20\n",
       "US 6        18\n",
       "Name: count, dtype: int64"
      ]
     },
     "execution_count": 9,
     "metadata": {},
     "output_type": "execute_result"
    }
   ],
   "source": [
    "df['Size'].value_counts()"
   ]
  },
  {
   "cell_type": "code",
   "execution_count": 10,
   "id": "e3a0e397-6ffb-4ee2-826d-0ebc4be2bc8f",
   "metadata": {},
   "outputs": [
    {
     "data": {
      "text/plain": [
       "Color\n",
       "Black              178\n",
       "White              139\n",
       "Grey               101\n",
       "Black/White        100\n",
       "Pink                64\n",
       "                  ... \n",
       "Khaki                1\n",
       "Black/Blue           1\n",
       "Grey/Purple          1\n",
       "Yellow/Black         1\n",
       "Collegiate Navy      1\n",
       "Name: count, Length: 82, dtype: int64"
      ]
     },
     "execution_count": 10,
     "metadata": {},
     "output_type": "execute_result"
    }
   ],
   "source": [
    "df['Color'].value_counts()"
   ]
  },
  {
   "cell_type": "code",
   "execution_count": 11,
   "id": "f4df10d1-4722-4d03-841f-9a3d8c0b877d",
   "metadata": {},
   "outputs": [
    {
     "data": {
      "text/plain": [
       "Material\n",
       "Mesh                    308\n",
       "Leather                 168\n",
       "Canvas                  147\n",
       "Primeknit                68\n",
       "Leather/Synthetic        47\n",
       "Synthetic                46\n",
       "Mesh/Synthetic           36\n",
       "Suede/Mesh               32\n",
       "Suede/Canvas             29\n",
       "Suede                    19\n",
       "Flyknit                  17\n",
       "Knit                     15\n",
       "Nylon                    13\n",
       "Canvas/Suede              9\n",
       "Synthetic/Mesh            7\n",
       "Suede/Leather             6\n",
       "Synthetic/Leather         6\n",
       "Suede/Nylon               5\n",
       "Flexweave                 4\n",
       "Leather/Suede             3\n",
       "Nylon/Suede               3\n",
       "Suede/Textile             3\n",
       "Knit/Synthetic            3\n",
       "Synthetic/Textile         2\n",
       "Textile/Leather           1\n",
       "Canvas/Leather            1\n",
       "Flexweave/Knit            1\n",
       "Mesh/Leather              1\n",
       "Primeknit/Synthetic       1\n",
       "Leather/Mesh              1\n",
       "Textile                   1\n",
       "Flexweave/Cushioning      1\n",
       "Flexweave/Synthetic       1\n",
       "Mesh/Suede                1\n",
       "Name: count, dtype: int64"
      ]
     },
     "execution_count": 11,
     "metadata": {},
     "output_type": "execute_result"
    }
   ],
   "source": [
    "df['Material'].value_counts()"
   ]
  },
  {
   "cell_type": "code",
   "execution_count": 12,
   "id": "85592b18-deb9-4ade-b10d-b1e5c49b213d",
   "metadata": {},
   "outputs": [],
   "source": [
    "def dct_maker(column):\n",
    "    new_dict={}\n",
    "    item=df[column].unique()\n",
    "    count=0\n",
    "    for i in list(item):\n",
    "        new_dict[i]=count\n",
    "        count+=1\n",
    "    return new_dict"
   ]
  },
  {
   "cell_type": "code",
   "execution_count": 13,
   "id": "200539e5-cce9-4a0e-ae65-3a034cfb36ba",
   "metadata": {},
   "outputs": [
    {
     "data": {
      "text/html": [
       "<div>\n",
       "<style scoped>\n",
       "    .dataframe tbody tr th:only-of-type {\n",
       "        vertical-align: middle;\n",
       "    }\n",
       "\n",
       "    .dataframe tbody tr th {\n",
       "        vertical-align: top;\n",
       "    }\n",
       "\n",
       "    .dataframe thead th {\n",
       "        text-align: right;\n",
       "    }\n",
       "</style>\n",
       "<table border=\"1\" class=\"dataframe\">\n",
       "  <thead>\n",
       "    <tr style=\"text-align: right;\">\n",
       "      <th></th>\n",
       "      <th>Brand</th>\n",
       "      <th>Type</th>\n",
       "      <th>Gender</th>\n",
       "      <th>Size</th>\n",
       "      <th>Color</th>\n",
       "      <th>Material</th>\n",
       "    </tr>\n",
       "  </thead>\n",
       "  <tbody>\n",
       "    <tr>\n",
       "      <th>0</th>\n",
       "      <td>0</td>\n",
       "      <td>0</td>\n",
       "      <td>0</td>\n",
       "      <td>0</td>\n",
       "      <td>0</td>\n",
       "      <td>0</td>\n",
       "    </tr>\n",
       "    <tr>\n",
       "      <th>1</th>\n",
       "      <td>1</td>\n",
       "      <td>1</td>\n",
       "      <td>0</td>\n",
       "      <td>1</td>\n",
       "      <td>1</td>\n",
       "      <td>1</td>\n",
       "    </tr>\n",
       "    <tr>\n",
       "      <th>2</th>\n",
       "      <td>2</td>\n",
       "      <td>2</td>\n",
       "      <td>0</td>\n",
       "      <td>2</td>\n",
       "      <td>2</td>\n",
       "      <td>0</td>\n",
       "    </tr>\n",
       "    <tr>\n",
       "      <th>3</th>\n",
       "      <td>3</td>\n",
       "      <td>2</td>\n",
       "      <td>1</td>\n",
       "      <td>3</td>\n",
       "      <td>3</td>\n",
       "      <td>2</td>\n",
       "    </tr>\n",
       "    <tr>\n",
       "      <th>4</th>\n",
       "      <td>4</td>\n",
       "      <td>3</td>\n",
       "      <td>1</td>\n",
       "      <td>4</td>\n",
       "      <td>4</td>\n",
       "      <td>3</td>\n",
       "    </tr>\n",
       "  </tbody>\n",
       "</table>\n",
       "</div>"
      ],
      "text/plain": [
       "   Brand  Type  Gender  Size  Color  Material\n",
       "0      0     0       0     0      0         0\n",
       "1      1     1       0     1      1         1\n",
       "2      2     2       0     2      2         0\n",
       "3      3     2       1     3      3         2\n",
       "4      4     3       1     4      4         3"
      ]
     },
     "execution_count": 13,
     "metadata": {},
     "output_type": "execute_result"
    }
   ],
   "source": [
    "# 迴圈處理data字典與編碼\n",
    "new_df=pd.DataFrame()\n",
    "dct_lst={}\n",
    "for col in list(df.columns)[:len(df.columns)-1]:\n",
    "    dct=dct_maker(col)\n",
    "    new_df[col]=df[col].map(dct)\n",
    "    dct_lst[col]=dct\n",
    "new_df.head()"
   ]
  },
  {
   "cell_type": "code",
   "execution_count": 14,
   "id": "5870f5b9-fe3c-4edc-a576-93256bd4322d",
   "metadata": {},
   "outputs": [
    {
     "data": {
      "text/html": [
       "<div>\n",
       "<style scoped>\n",
       "    .dataframe tbody tr th:only-of-type {\n",
       "        vertical-align: middle;\n",
       "    }\n",
       "\n",
       "    .dataframe tbody tr th {\n",
       "        vertical-align: top;\n",
       "    }\n",
       "\n",
       "    .dataframe thead th {\n",
       "        text-align: right;\n",
       "    }\n",
       "</style>\n",
       "<table border=\"1\" class=\"dataframe\">\n",
       "  <thead>\n",
       "    <tr style=\"text-align: right;\">\n",
       "      <th></th>\n",
       "      <th>Brand</th>\n",
       "      <th>Type</th>\n",
       "      <th>Gender</th>\n",
       "      <th>Size</th>\n",
       "      <th>Color</th>\n",
       "      <th>Material</th>\n",
       "      <th>Price (USD)</th>\n",
       "    </tr>\n",
       "  </thead>\n",
       "  <tbody>\n",
       "    <tr>\n",
       "      <th>0</th>\n",
       "      <td>Nike</td>\n",
       "      <td>Basketball</td>\n",
       "      <td>Men</td>\n",
       "      <td>US 10</td>\n",
       "      <td>Red/Black</td>\n",
       "      <td>Leather</td>\n",
       "      <td>170.00</td>\n",
       "    </tr>\n",
       "    <tr>\n",
       "      <th>1</th>\n",
       "      <td>Adidas</td>\n",
       "      <td>Running</td>\n",
       "      <td>Men</td>\n",
       "      <td>US 9.5</td>\n",
       "      <td>Black</td>\n",
       "      <td>Primeknit</td>\n",
       "      <td>180.00</td>\n",
       "    </tr>\n",
       "    <tr>\n",
       "      <th>2</th>\n",
       "      <td>Reebok</td>\n",
       "      <td>Casual</td>\n",
       "      <td>Men</td>\n",
       "      <td>US 11</td>\n",
       "      <td>White</td>\n",
       "      <td>Leather</td>\n",
       "      <td>75.00</td>\n",
       "    </tr>\n",
       "    <tr>\n",
       "      <th>3</th>\n",
       "      <td>Converse</td>\n",
       "      <td>Casual</td>\n",
       "      <td>Women</td>\n",
       "      <td>US 8</td>\n",
       "      <td>Navy</td>\n",
       "      <td>Canvas</td>\n",
       "      <td>55.00</td>\n",
       "    </tr>\n",
       "    <tr>\n",
       "      <th>4</th>\n",
       "      <td>Puma</td>\n",
       "      <td>Lifestyle</td>\n",
       "      <td>Women</td>\n",
       "      <td>US 7.5</td>\n",
       "      <td>Pink</td>\n",
       "      <td>Mesh</td>\n",
       "      <td>80.00</td>\n",
       "    </tr>\n",
       "  </tbody>\n",
       "</table>\n",
       "</div>"
      ],
      "text/plain": [
       "      Brand        Type Gender    Size      Color   Material Price (USD)\n",
       "0      Nike  Basketball    Men   US 10  Red/Black    Leather     170.00 \n",
       "1    Adidas     Running    Men  US 9.5      Black  Primeknit     180.00 \n",
       "2    Reebok      Casual    Men   US 11      White    Leather      75.00 \n",
       "3  Converse      Casual  Women    US 8       Navy     Canvas      55.00 \n",
       "4      Puma   Lifestyle  Women  US 7.5       Pink       Mesh      80.00 "
      ]
     },
     "execution_count": 14,
     "metadata": {},
     "output_type": "execute_result"
    }
   ],
   "source": [
    "# 處理原始列表的 $\n",
    "df['Price (USD)'] = df['Price (USD)'].str.replace('$', '', regex=False)\n",
    "df.head()"
   ]
  },
  {
   "cell_type": "code",
   "execution_count": 15,
   "id": "86fc7fae-2acc-4b2e-9fcf-866cd3297c46",
   "metadata": {},
   "outputs": [
    {
     "data": {
      "text/html": [
       "<div>\n",
       "<style scoped>\n",
       "    .dataframe tbody tr th:only-of-type {\n",
       "        vertical-align: middle;\n",
       "    }\n",
       "\n",
       "    .dataframe tbody tr th {\n",
       "        vertical-align: top;\n",
       "    }\n",
       "\n",
       "    .dataframe thead th {\n",
       "        text-align: right;\n",
       "    }\n",
       "</style>\n",
       "<table border=\"1\" class=\"dataframe\">\n",
       "  <thead>\n",
       "    <tr style=\"text-align: right;\">\n",
       "      <th></th>\n",
       "      <th>Brand_Adidas</th>\n",
       "      <th>Brand_Asics</th>\n",
       "      <th>Brand_Converse</th>\n",
       "      <th>Brand_Fila</th>\n",
       "      <th>Brand_New Balance</th>\n",
       "      <th>Brand_Nike</th>\n",
       "      <th>Brand_Puma</th>\n",
       "      <th>Brand_Reebok</th>\n",
       "      <th>Brand_Skechers</th>\n",
       "      <th>Brand_Vans</th>\n",
       "      <th>...</th>\n",
       "      <th>Material_Suede/Leather</th>\n",
       "      <th>Material_Suede/Mesh</th>\n",
       "      <th>Material_Suede/Nylon</th>\n",
       "      <th>Material_Suede/Textile</th>\n",
       "      <th>Material_Synthetic</th>\n",
       "      <th>Material_Synthetic/Leather</th>\n",
       "      <th>Material_Synthetic/Mesh</th>\n",
       "      <th>Material_Synthetic/Textile</th>\n",
       "      <th>Material_Textile</th>\n",
       "      <th>Material_Textile/Leather</th>\n",
       "    </tr>\n",
       "  </thead>\n",
       "  <tbody>\n",
       "    <tr>\n",
       "      <th>0</th>\n",
       "      <td>False</td>\n",
       "      <td>False</td>\n",
       "      <td>False</td>\n",
       "      <td>False</td>\n",
       "      <td>False</td>\n",
       "      <td>True</td>\n",
       "      <td>False</td>\n",
       "      <td>False</td>\n",
       "      <td>False</td>\n",
       "      <td>False</td>\n",
       "      <td>...</td>\n",
       "      <td>False</td>\n",
       "      <td>False</td>\n",
       "      <td>False</td>\n",
       "      <td>False</td>\n",
       "      <td>False</td>\n",
       "      <td>False</td>\n",
       "      <td>False</td>\n",
       "      <td>False</td>\n",
       "      <td>False</td>\n",
       "      <td>False</td>\n",
       "    </tr>\n",
       "    <tr>\n",
       "      <th>1</th>\n",
       "      <td>True</td>\n",
       "      <td>False</td>\n",
       "      <td>False</td>\n",
       "      <td>False</td>\n",
       "      <td>False</td>\n",
       "      <td>False</td>\n",
       "      <td>False</td>\n",
       "      <td>False</td>\n",
       "      <td>False</td>\n",
       "      <td>False</td>\n",
       "      <td>...</td>\n",
       "      <td>False</td>\n",
       "      <td>False</td>\n",
       "      <td>False</td>\n",
       "      <td>False</td>\n",
       "      <td>False</td>\n",
       "      <td>False</td>\n",
       "      <td>False</td>\n",
       "      <td>False</td>\n",
       "      <td>False</td>\n",
       "      <td>False</td>\n",
       "    </tr>\n",
       "    <tr>\n",
       "      <th>2</th>\n",
       "      <td>False</td>\n",
       "      <td>False</td>\n",
       "      <td>False</td>\n",
       "      <td>False</td>\n",
       "      <td>False</td>\n",
       "      <td>False</td>\n",
       "      <td>False</td>\n",
       "      <td>True</td>\n",
       "      <td>False</td>\n",
       "      <td>False</td>\n",
       "      <td>...</td>\n",
       "      <td>False</td>\n",
       "      <td>False</td>\n",
       "      <td>False</td>\n",
       "      <td>False</td>\n",
       "      <td>False</td>\n",
       "      <td>False</td>\n",
       "      <td>False</td>\n",
       "      <td>False</td>\n",
       "      <td>False</td>\n",
       "      <td>False</td>\n",
       "    </tr>\n",
       "    <tr>\n",
       "      <th>3</th>\n",
       "      <td>False</td>\n",
       "      <td>False</td>\n",
       "      <td>True</td>\n",
       "      <td>False</td>\n",
       "      <td>False</td>\n",
       "      <td>False</td>\n",
       "      <td>False</td>\n",
       "      <td>False</td>\n",
       "      <td>False</td>\n",
       "      <td>False</td>\n",
       "      <td>...</td>\n",
       "      <td>False</td>\n",
       "      <td>False</td>\n",
       "      <td>False</td>\n",
       "      <td>False</td>\n",
       "      <td>False</td>\n",
       "      <td>False</td>\n",
       "      <td>False</td>\n",
       "      <td>False</td>\n",
       "      <td>False</td>\n",
       "      <td>False</td>\n",
       "    </tr>\n",
       "    <tr>\n",
       "      <th>4</th>\n",
       "      <td>False</td>\n",
       "      <td>False</td>\n",
       "      <td>False</td>\n",
       "      <td>False</td>\n",
       "      <td>False</td>\n",
       "      <td>False</td>\n",
       "      <td>True</td>\n",
       "      <td>False</td>\n",
       "      <td>False</td>\n",
       "      <td>False</td>\n",
       "      <td>...</td>\n",
       "      <td>False</td>\n",
       "      <td>False</td>\n",
       "      <td>False</td>\n",
       "      <td>False</td>\n",
       "      <td>False</td>\n",
       "      <td>False</td>\n",
       "      <td>False</td>\n",
       "      <td>False</td>\n",
       "      <td>False</td>\n",
       "      <td>False</td>\n",
       "    </tr>\n",
       "  </tbody>\n",
       "</table>\n",
       "<p>5 rows × 159 columns</p>\n",
       "</div>"
      ],
      "text/plain": [
       "   Brand_Adidas  Brand_Asics  Brand_Converse  Brand_Fila  Brand_New Balance  \\\n",
       "0         False        False           False       False              False   \n",
       "1          True        False           False       False              False   \n",
       "2         False        False           False       False              False   \n",
       "3         False        False            True       False              False   \n",
       "4         False        False           False       False              False   \n",
       "\n",
       "   Brand_Nike  Brand_Puma  Brand_Reebok  Brand_Skechers  Brand_Vans  ...  \\\n",
       "0        True       False         False           False       False  ...   \n",
       "1       False       False         False           False       False  ...   \n",
       "2       False       False          True           False       False  ...   \n",
       "3       False       False         False           False       False  ...   \n",
       "4       False        True         False           False       False  ...   \n",
       "\n",
       "   Material_Suede/Leather  Material_Suede/Mesh  Material_Suede/Nylon  \\\n",
       "0                   False                False                 False   \n",
       "1                   False                False                 False   \n",
       "2                   False                False                 False   \n",
       "3                   False                False                 False   \n",
       "4                   False                False                 False   \n",
       "\n",
       "   Material_Suede/Textile  Material_Synthetic  Material_Synthetic/Leather  \\\n",
       "0                   False               False                       False   \n",
       "1                   False               False                       False   \n",
       "2                   False               False                       False   \n",
       "3                   False               False                       False   \n",
       "4                   False               False                       False   \n",
       "\n",
       "   Material_Synthetic/Mesh  Material_Synthetic/Textile  Material_Textile  \\\n",
       "0                    False                       False             False   \n",
       "1                    False                       False             False   \n",
       "2                    False                       False             False   \n",
       "3                    False                       False             False   \n",
       "4                    False                       False             False   \n",
       "\n",
       "   Material_Textile/Leather  \n",
       "0                     False  \n",
       "1                     False  \n",
       "2                     False  \n",
       "3                     False  \n",
       "4                     False  \n",
       "\n",
       "[5 rows x 159 columns]"
      ]
     },
     "execution_count": 15,
     "metadata": {},
     "output_type": "execute_result"
    }
   ],
   "source": [
    "# 決策樹回歸\n",
    "from sklearn.tree import DecisionTreeRegressor\n",
    "from sklearn.model_selection import train_test_split, GridSearchCV\n",
    "\n",
    "x=df.drop(columns=['Price (USD)'])\n",
    "y=df['Price (USD)']\n",
    "encoded_x=pd.get_dummies(x)\n",
    "encoded_x.head()"
   ]
  },
  {
   "cell_type": "code",
   "execution_count": 22,
   "id": "9f7df911-e764-4bf6-9996-7e73840de585",
   "metadata": {},
   "outputs": [],
   "source": [
    "# 數據分隔\n",
    "train_x, test_x, train_y, test_y=train_test_split(encoded_x, y, test_size=0.2, random_state=87)"
   ]
  },
  {
   "cell_type": "code",
   "execution_count": 23,
   "id": "8b2e472e-bea9-4cf2-9914-d66590d14bff",
   "metadata": {},
   "outputs": [],
   "source": [
    "# 決策樹回歸模型\n",
    "model = DecisionTreeRegressor(random_state=7)"
   ]
  },
  {
   "cell_type": "code",
   "execution_count": 24,
   "id": "d7bc4b4f-d850-4603-a649-001203382361",
   "metadata": {},
   "outputs": [
    {
     "name": "stderr",
     "output_type": "stream",
     "text": [
      "C:\\Users\\william\\AppData\\Local\\Programs\\Python\\Python311\\Lib\\site-packages\\sklearn\\model_selection\\_validation.py:547: FitFailedWarning: \n",
      "1500 fits failed out of a total of 15000.\n",
      "The score on these train-test partitions for these parameters will be set to nan.\n",
      "If these failures are not expected, you can try to debug them by setting error_score='raise'.\n",
      "\n",
      "Below are more details about the failures:\n",
      "--------------------------------------------------------------------------------\n",
      "1500 fits failed with the following error:\n",
      "Traceback (most recent call last):\n",
      "  File \"C:\\Users\\william\\AppData\\Local\\Programs\\Python\\Python311\\Lib\\site-packages\\sklearn\\model_selection\\_validation.py\", line 895, in _fit_and_score\n",
      "    estimator.fit(X_train, y_train, **fit_params)\n",
      "  File \"C:\\Users\\william\\AppData\\Local\\Programs\\Python\\Python311\\Lib\\site-packages\\sklearn\\base.py\", line 1467, in wrapper\n",
      "    estimator._validate_params()\n",
      "  File \"C:\\Users\\william\\AppData\\Local\\Programs\\Python\\Python311\\Lib\\site-packages\\sklearn\\base.py\", line 666, in _validate_params\n",
      "    validate_parameter_constraints(\n",
      "  File \"C:\\Users\\william\\AppData\\Local\\Programs\\Python\\Python311\\Lib\\site-packages\\sklearn\\utils\\_param_validation.py\", line 95, in validate_parameter_constraints\n",
      "    raise InvalidParameterError(\n",
      "sklearn.utils._param_validation.InvalidParameterError: The 'min_samples_split' parameter of DecisionTreeRegressor must be an int in the range [2, inf) or a float in the range (0.0, 1.0]. Got 1 instead.\n",
      "\n",
      "  warnings.warn(some_fits_failed_message, FitFailedWarning)\n",
      "C:\\Users\\william\\AppData\\Local\\Programs\\Python\\Python311\\Lib\\site-packages\\sklearn\\model_selection\\_search.py:1051: UserWarning: One or more of the test scores are non-finite: [           nan -1080.45656996 -1080.45656996 ...  -597.31747902\n",
      "  -597.31747902  -597.31747902]\n",
      "  warnings.warn(\n"
     ]
    },
    {
     "name": "stdout",
     "output_type": "stream",
     "text": [
      "最佳參數: {'criterion': 'absolute_error', 'max_depth': 16, 'min_samples_leaf': 1, 'min_samples_split': 8}\n",
      "best負均方誤差: -394.52525658385093\n"
     ]
    }
   ],
   "source": [
    "# 最佳化參數搜尋\n",
    "param_grid = {\n",
    "    'criterion': ['squared_error', 'absolute_error'],  # loss\n",
    "    'max_depth': [i for i in range(1,31)],  # 最大深度\n",
    "    'min_samples_split': [i for i in range(1,11)],  # \n",
    "    'min_samples_leaf': [1,2,3,4,5]  # 叶节点最少样本数\n",
    "}\n",
    "\n",
    "# 最佳化參數\n",
    "grid_search=GridSearchCV(estimator=model, \n",
    "                         param_grid=param_grid, \n",
    "                         cv=5, scoring='neg_mean_squared_error', \n",
    "                         n_jobs=1)\n",
    "\n",
    "# 開始訓練\n",
    "grid_search.fit(train_x, train_y)\n",
    "\n",
    "# 輸出結果\n",
    "print(\"最佳參數:\", grid_search.best_params_)\n",
    "print(\"best負均方誤差:\", grid_search.best_score_)"
   ]
  },
  {
   "cell_type": "code",
   "execution_count": 28,
   "id": "fb9920fe-d51a-4731-87d6-4ade5457f8cc",
   "metadata": {},
   "outputs": [
    {
     "name": "stdout",
     "output_type": "stream",
     "text": [
      "測試集mse: 541.4913366336634\n",
      "測試集r2: 0.7037399872351495\n"
     ]
    }
   ],
   "source": [
    "from sklearn.metrics import mean_squared_error, r2_score\n",
    "# 使用最佳參數進行預測\n",
    "best_model=grid_search.best_estimator_\n",
    "pred_y=best_model.predict(test_x)\n",
    "\n",
    "# 評估模型\n",
    "mse=mean_squared_error(test_y, pred_y)\n",
    "r2=r2_score(test_y, pred_y)\n",
    "\n",
    "print(f'測試集mse: {mse}')\n",
    "print(f'測試集r2: {r2}')"
   ]
  },
  {
   "cell_type": "code",
   "execution_count": 31,
   "id": "695f0f74-53ad-40f1-848b-a80ad8b49cde",
   "metadata": {},
   "outputs": [],
   "source": [
    "# 可視化tree\n",
    "from sklearn.tree import export_graphviz\n",
    "import graphviz\n",
    "from pydotplus import graph_from_dot_data\n",
    "\n",
    "# 導出圖片\n",
    "dot_data = export_graphviz(best_model, out_file=None, \n",
    "                           feature_names=encoded_x.columns,  \n",
    "                           filled=True, rounded=True,  \n",
    "                           special_characters=True)  \n",
    "\n",
    "# 使用 graphviz渲染圖片\n",
    "graph=graphviz.Source(dot_data)"
   ]
  },
  {
   "cell_type": "code",
   "execution_count": 32,
   "id": "262215d0-b0a6-41b1-ac93-2a90755b28e1",
   "metadata": {},
   "outputs": [
    {
     "data": {
      "text/plain": [
       "['decision_tree_model.pkl']"
      ]
     },
     "execution_count": 32,
     "metadata": {},
     "output_type": "execute_result"
    }
   ],
   "source": [
    "# 保存模型\n",
    "import joblib\n",
    "joblib.dump(best_model, 'decision_tree_model.pkl')"
   ]
  },
  {
   "cell_type": "code",
   "execution_count": 33,
   "id": "669dce6a-46d3-4ad4-b8da-c7e27bb9f994",
   "metadata": {},
   "outputs": [
    {
     "data": {
      "text/plain": [
       "True"
      ]
     },
     "execution_count": 33,
     "metadata": {},
     "output_type": "execute_result"
    }
   ],
   "source": [
    "# 輸出testdata圖片\n",
    "graph = graph_from_dot_data(dot_data)\n",
    "graph.write_png(\"decision_tree.png\")  # 将图形保存为 PNG 文件"
   ]
  },
  {
   "cell_type": "raw",
   "id": "1ef66073-faf9-494c-abbc-551fa2f881df",
   "metadata": {},
   "source": [
    "資料調用區"
   ]
  },
  {
   "cell_type": "code",
   "execution_count": 56,
   "id": "92a3dc85-1d9a-4ca5-98b3-a7dcec642b72",
   "metadata": {},
   "outputs": [
    {
     "data": {
      "text/plain": [
       "array([170.])"
      ]
     },
     "execution_count": 56,
     "metadata": {},
     "output_type": "execute_result"
    }
   ],
   "source": [
    "f_lst=['Brand','Size', 'Gender', 'Type', 'Color', 'Material']\n",
    "\n",
    "def pred(data):\n",
    "    if len(data) != 6:\n",
    "        return 'error!'\n",
    "\n",
    "    # 建立全為false空表單\n",
    "    false_df=pd.DataFrame(columns=encoded_x.columns)\n",
    "    false_df.loc[0]=[False] * len(encoded_x.columns)\n",
    "    # 轉換資料\n",
    "    for i in range(len(data)):\n",
    "        col=f_lst[i]+\"_\"+data[i]\n",
    "        false_df[col]=True\n",
    "    # 預測資料\n",
    "    result=best_model.predict(false_df)\n",
    "    return result\n",
    "test_data=['Nike','US 8.5','Men','Basketball','Red/Black','Leather']\n",
    "a=pred(test_data)\n",
    "a"
   ]
  },
  {
   "cell_type": "code",
   "execution_count": 19,
   "id": "4e15ff29-9d16-487c-9429-e1fdc382c87b",
   "metadata": {},
   "outputs": [
    {
     "name": "stdout",
     "output_type": "stream",
     "text": [
      "\"Brand_Adidas\",\"Brand_Asics\",\"Brand_Converse\",\"Brand_Fila\",\"Brand_New Balance\",\"Brand_Nike\",\"Brand_Puma\",\"Brand_Reebok\",\"Brand_Skechers\",\"Brand_Vans\",\"Type_Basketball\",\"Type_Casual\",\"Type_Cross-training\",\"Type_CrossFit\",\"Type_Crossfit\",\"Type_Fashion\",\"Type_Hiking\",\"Type_Lifestyle\",\"Type_Racing\",\"Type_Retro\",\"Type_Running\",\"Type_Skate\",\"Type_Slides\",\"Type_Trail\",\"Type_Trail Running\",\"Type_Training\",\"Type_Walking\",\"Type_Weightlifting\",\"Gender_Men\",\"Gender_Women\",\"Size_US 10\",\"Size_US 10.5\",\"Size_US 11\",\"Size_US 11.5\",\"Size_US 12\",\"Size_US 6\",\"Size_US 6.5\",\"Size_US 7\",\"Size_US 7.5\",\"Size_US 8\",\"Size_US 8.5\",\"Size_US 9\",\"Size_US 9.5\",\"Color_Beige\",\"Color_Black\",\"Color_Black/Blue\",\"Color_Black/Gold\",\"Color_Black/Gold/Red\",\"Color_Black/Green\",\"Color_Black/Grey\",\"Color_Black/Gum\",\"Color_Black/Pink\",\"Color_Black/Red\",\"Color_Black/White\",\"Color_Black/White Checkerboard\",\"Color_Black/Yellow\",\"Color_Blue\",\"Color_Blue/Black\",\"Color_Blue/Green\",\"Color_Blue/Orange\",\"Color_Blue/Pink\",\"Color_Blue/Red\",\"Color_Blue/White\",\"Color_Blue/Yellow\",\"Color_Brown\",\"Color_Burgundy\",\"Color_Charcoal\",\"Color_Checkerboard\",\"Color_Checkerboard Black/White\",\"Color_Checkered\",\"Color_Cinder\",\"Color_Clay Brown\",\"Color_Cloud White\",\"Color_Collegiate Navy\",\"Color_Cream\",\"Color_Cream White\",\"Color_Egret\",\"Color_Egret/Black\",\"Color_Green\",\"Color_Green/Black\",\"Color_Green/Orange\",\"Color_Green/White\",\"Color_Grey\",\"Color_Grey/Black\",\"Color_Grey/Green\",\"Color_Grey/Orange\",\"Color_Grey/Pink\",\"Color_Grey/Purple\",\"Color_Grey/White\",\"Color_Grey/Yellow\",\"Color_Ivory\",\"Color_Khaki\",\"Color_Multi-color\",\"Color_Natural\",\"Color_Natural Ivory\",\"Color_Navy\",\"Color_Navy/Red\",\"Color_Navy/White\",\"Color_Orange\",\"Color_Pink\",\"Color_Pink/Black\",\"Color_Pink/White\",\"Color_Purple\",\"Color_Red\",\"Color_Red/Black\",\"Color_Red/White\",\"Color_Silver\",\"Color_Silver/White\",\"Color_Sunflower\",\"Color_True White\",\"Color_White\",\"Color_White/Black\",\"Color_White/Blue\",\"Color_White/Gold\",\"Color_White/Green\",\"Color_White/Grey\",\"Color_White/Navy\",\"Color_White/Navy/Red\",\"Color_White/Pink\",\"Color_White/Red\",\"Color_White/Red/Blue\",\"Color_White/Red/Navy\",\"Color_Yellow\",\"Color_Yellow/Black\",\"Color_Zebra\",\"Material_Canvas\",\"Material_Canvas/Leather\",\"Material_Canvas/Suede\",\"Material_Flexweave\",\"Material_Flexweave/Cushioning\",\"Material_Flexweave/Knit\",\"Material_Flexweave/Synthetic\",\"Material_Flyknit\",\"Material_Knit\",\"Material_Knit/Synthetic\",\"Material_Leather\",\"Material_Leather/Mesh\",\"Material_Leather/Suede\",\"Material_Leather/Synthetic\",\"Material_Mesh\",\"Material_Mesh/Leather\",\"Material_Mesh/Suede\",\"Material_Mesh/Synthetic\",\"Material_Nylon\",\"Material_Nylon/Suede\",\"Material_Primeknit\",\"Material_Primeknit/Synthetic\",\"Material_Suede\",\"Material_Suede/Canvas\",\"Material_Suede/Leather\",\"Material_Suede/Mesh\",\"Material_Suede/Nylon\",\"Material_Suede/Textile\",\"Material_Synthetic\",\"Material_Synthetic/Leather\",\"Material_Synthetic/Mesh\",\"Material_Synthetic/Textile\",\"Material_Textile\",\"Material_Textile/Leather\","
     ]
    }
   ],
   "source": [
    "for i in (encoded_x.columns):\n",
    "    i='\"'+i+'\"'\n",
    "    print(i,end=\",\")"
   ]
  },
  {
   "cell_type": "code",
   "execution_count": 20,
   "id": "b0107d38-4d66-441d-b729-ebb3cf4df725",
   "metadata": {},
   "outputs": [
    {
     "ename": "NameError",
     "evalue": "name 'f_lst' is not defined",
     "output_type": "error",
     "traceback": [
      "\u001b[1;31m---------------------------------------------------------------------------\u001b[0m",
      "\u001b[1;31mNameError\u001b[0m                                 Traceback (most recent call last)",
      "Cell \u001b[1;32mIn[20], line 1\u001b[0m\n\u001b[1;32m----> 1\u001b[0m \u001b[38;5;28mprint\u001b[39m(\u001b[43mf_lst\u001b[49m)\n",
      "\u001b[1;31mNameError\u001b[0m: name 'f_lst' is not defined"
     ]
    }
   ],
   "source": [
    "print(f_lst)"
   ]
  },
  {
   "cell_type": "code",
   "execution_count": null,
   "id": "f6a599a0-a34a-445c-b1b3-bea7207a9faf",
   "metadata": {},
   "outputs": [],
   "source": []
  },
  {
   "cell_type": "code",
   "execution_count": null,
   "id": "71032847-1c6f-4d89-a56a-5292747b4458",
   "metadata": {},
   "outputs": [],
   "source": []
  },
  {
   "cell_type": "code",
   "execution_count": null,
   "id": "e69dec01-4ff7-46c5-9b61-195361070120",
   "metadata": {},
   "outputs": [],
   "source": []
  }
 ],
 "metadata": {
  "kernelspec": {
   "display_name": "Python 3 (ipykernel)",
   "language": "python",
   "name": "python3"
  },
  "language_info": {
   "codemirror_mode": {
    "name": "ipython",
    "version": 3
   },
   "file_extension": ".py",
   "mimetype": "text/x-python",
   "name": "python",
   "nbconvert_exporter": "python",
   "pygments_lexer": "ipython3",
   "version": "3.11.5"
  }
 },
 "nbformat": 4,
 "nbformat_minor": 5
}
