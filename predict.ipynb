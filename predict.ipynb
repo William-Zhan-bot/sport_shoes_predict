{
 "cells": [
  {
   "cell_type": "code",
   "execution_count": null,
   "id": "0b146763-a89e-4749-b7bb-f21333788920",
   "metadata": {},
   "outputs": [],
   "source": [
    "import sys\n",
    "import joblib\n",
    "import pandas as pd\n",
    "import json\n",
    "\n",
    "# 从标准输入读取数据\n",
    "input_data = json.load(sys.stdin)\n",
    "\n",
    "print(input_data)\n",
    "\n",
    "def pred(data):\n",
    "    if len(data) != 6:\n",
    "        return 'error!'\n",
    "\n",
    "    # 建立全為false空表單\n",
    "    false_df=pd.DataFrame(columns=encoded_x.columns)\n",
    "    false_df.loc[0]=[False] * len(encoded_x.columns)\n",
    "    # 轉換資料\n",
    "    for i in range(len(data)):\n",
    "        col=f_lst[i]+\"_\"+data[i]\n",
    "        false_df[col]=True\n",
    "    # 預測資料\n",
    "    result=best_model.predict(false_df)\n",
    "    return result\n",
    "test_data=['Nike','US 8.5','Men','Basketball','Red/Black','Leather']\n",
    "a=pred(test_data)"
   ]
  },
  {
   "cell_type": "code",
   "execution_count": null,
   "id": "f915c00b-1f16-4210-82a4-c79e14db1c1d",
   "metadata": {},
   "outputs": [],
   "source": []
  },
  {
   "cell_type": "code",
   "execution_count": null,
   "id": "44ed01a3-8c92-48d2-bea0-6e5899649e59",
   "metadata": {},
   "outputs": [],
   "source": []
  },
  {
   "cell_type": "code",
   "execution_count": null,
   "id": "81cb9c6b-70cc-4075-a448-29bbe4793397",
   "metadata": {},
   "outputs": [],
   "source": []
  }
 ],
 "metadata": {
  "kernelspec": {
   "display_name": "Python 3 (ipykernel)",
   "language": "python",
   "name": "python3"
  },
  "language_info": {
   "codemirror_mode": {
    "name": "ipython",
    "version": 3
   },
   "file_extension": ".py",
   "mimetype": "text/x-python",
   "name": "python",
   "nbconvert_exporter": "python",
   "pygments_lexer": "ipython3",
   "version": "3.11.5"
  }
 },
 "nbformat": 4,
 "nbformat_minor": 5
}
